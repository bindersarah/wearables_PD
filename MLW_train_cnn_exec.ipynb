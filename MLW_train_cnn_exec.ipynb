{
 "cells": [
  {
   "cell_type": "code",
   "execution_count": 1,
   "id": "3b2a0a4b-2502-4ef2-a79d-abddf665dc36",
   "metadata": {},
   "outputs": [
    {
     "name": "stderr",
     "output_type": "stream",
     "text": [
      "2025-05-15 17:03:53.944274: I tensorflow/core/platform/cpu_feature_guard.cc:210] This TensorFlow binary is optimized to use available CPU instructions in performance-critical operations.\n",
      "To enable the following instructions: SSE4.1 SSE4.2 AVX AVX2 FMA, in other operations, rebuild TensorFlow with the appropriate compiler flags.\n"
     ]
    }
   ],
   "source": [
    "import matplotlib.pyplot as plt\n",
    "import numpy as np\n",
    "import tensorflow as tf\n",
    "from tensorflow.keras.utils import Sequence, to_categorical\n",
    "from tensorflow.keras import layers, models\n",
    "from tensorflow.keras.callbacks import ModelCheckpoint, EarlyStopping, CSVLogger\n",
    "from tensorflow.keras.metrics import AUC\n",
    "\n",
    "from sklearn.metrics import roc_curve, roc_auc_score\n",
    "from sklearn.model_selection import GroupKFold\n",
    "from sklearn.preprocessing import StandardScaler"
   ]
  },
  {
   "cell_type": "code",
   "execution_count": 2,
   "id": "7fda4b27-4b9d-440e-a891-c3e3888f023c",
   "metadata": {},
   "outputs": [],
   "source": [
    "from tensorflow.keras.models import load_model"
   ]
  },
  {
   "cell_type": "markdown",
   "id": "16466aac-703d-4e37-beaf-1e9176362056",
   "metadata": {},
   "source": [
    "# Build and Train CNN"
   ]
  },
  {
   "cell_type": "code",
   "execution_count": 2,
   "id": "4fbba904-2284-4a27-a694-8bc4e37adfc9",
   "metadata": {
    "execution": {
     "iopub.execute_input": "2025-05-15T19:50:56.958835Z",
     "iopub.status.busy": "2025-05-15T19:50:56.958590Z",
     "iopub.status.idle": "2025-05-15T19:50:56.963524Z",
     "shell.execute_reply": "2025-05-15T19:50:56.963158Z"
    }
   },
   "outputs": [],
   "source": [
    "def train(X,y,groups):\n",
    "\n",
    "    # init for tracking\n",
    "    all_models = []\n",
    "    all_histories = []\n",
    "\n",
    "    gkf = GroupKFold(n_splits=5, shuffle=True)    \n",
    "\n",
    "    # using trainign data, holdout set reserved\n",
    "    for ifold, (train_idx, val_idx) in enumerate(gkf.split(X, y, groups=groups)):\n",
    "        print(f\"\\nRunning fold {ifold+1}/5\")\n",
    "        # get train and test data\n",
    "        Xtr, Xval = X[train_idx], X[val_idx]\n",
    "        ytr, yval = y[train_idx], y[val_idx]\n",
    "\n",
    "        # Flatten time for scasling\n",
    "        Xtr_reshaped = Xtr.reshape(-1, Xtr.shape[2]) # remove num_windows dimension for scaling\n",
    "        Xval_reshaped = Xval.reshape(-1, Xval.shape[2])\n",
    "\n",
    "        # scale\n",
    "        scaler = StandardScaler()\n",
    "        Xtr_scal = scaler.fit_transform(Xtr_reshaped).reshape(Xtr.shape) # restore original shape\n",
    "        Xval_scal = scaler.transform(Xval_reshaped).reshape(Xval.shape)\n",
    "\n",
    "        # define checkpoints\n",
    "        # number of epochs with no improvment after which the training will stop\n",
    "        early_stopping = EarlyStopping(monitor='val_accuracy', patience=5, verbose=2)\n",
    "\n",
    "        # save best model\n",
    "        checkpoint = ModelCheckpoint(\n",
    "        \"model-epoch{epoch:02d}-valacc{val_accuracy:.2f}.keras\", # save as .keras next time\n",
    "        monitor=\"val_accuracy\",\n",
    "        save_best_only=True,\n",
    "        verbose=2\n",
    "    )\n",
    "\n",
    "        # Build model  # input shape means a sinlge SAMple is of shape 200 rows * num features\n",
    "        model = build_model(input_shape=(X.shape[1], X.shape[2]), num_classes=1)\n",
    "\n",
    "        # compile\n",
    "        model.compile(optimizer='adam',\n",
    "              loss='binary_crossentropy',\n",
    "              metrics=['accuracy', AUC(name='auc')])\n",
    "\n",
    "        csv_logger = CSVLogger('training_log.csv', append=False) # to access metrics per epoch\n",
    "        \n",
    "        history = model.fit(\n",
    "            Xtr_scal, ytr,\n",
    "            validation_data=(Xval_scal, yval),\n",
    "            epochs=20,\n",
    "            batch_size=32, # 32 windows in 1 batch, with every batch per epoch, updates weights\n",
    "            verbose=2,\n",
    "            callbacks = [checkpoint, early_stopping, csv_logger]\n",
    "        )\n",
    "\n",
    "    all_models.append(model)\n",
    "    all_histories.append(history)\n",
    "\n",
    "    return all_models, all_histories\n"
   ]
  },
  {
   "cell_type": "code",
   "execution_count": 3,
   "id": "bcb73623-7b50-493f-bf63-4cc0fffb5f6f",
   "metadata": {
    "execution": {
     "iopub.execute_input": "2025-05-15T19:50:56.964725Z",
     "iopub.status.busy": "2025-05-15T19:50:56.964598Z",
     "iopub.status.idle": "2025-05-15T19:50:56.967822Z",
     "shell.execute_reply": "2025-05-15T19:50:56.967482Z"
    }
   },
   "outputs": [],
   "source": [
    "def build_model(input_shape=(500, 144), num_classes=1): # input: 144-length vectors with 500 timesteps\n",
    "\n",
    "    model = models.Sequential([\n",
    "        # First block: quarter-second time steps\n",
    "        # kernel size = temporal width of the filter #filter size = num conv filters learned\n",
    "        layers.Input(shape=input_shape),\n",
    "        layers.Conv1D(32, kernel_size=25, padding='same', activation='relu'), #filter size = num conv filters learned\n",
    "        layers.BatchNormalization(),\n",
    "        layers.Dropout(0.3),\n",
    "\n",
    "        # 1-second time steps\n",
    "        layers.Conv1D(64, kernel_size=50, dilation_rate=2, padding='same', activation='relu'), # padding = same, output shape remains 500. (500, 64)\n",
    "        layers.BatchNormalization(),\n",
    "        layers.MaxPooling1D(pool_size=2), # downsamples by taking max activation(strongest patterns) \n",
    "\n",
    "        # 5-second time steps\n",
    "        layers.Conv1D(128, kernel_size=50, dilation_rate=10, padding='same', activation='relu'),\n",
    "        layers.BatchNormalization(),\n",
    "        layers.MaxPooling1D(pool_size=2), \n",
    "\n",
    "        # summarize\n",
    "        layers.GlobalAveragePooling1D(), # flattens\n",
    "        layers.Dense(64, activation='relu'),\n",
    "        layers.Dropout(0.5),  # randomly zeroes out 32 of the 64 activations each epoch\n",
    "        layers.Dense(num_classes, activation='sigmoid')  # binary classification\n",
    "    ])\n",
    "\n",
    "    return model\n"
   ]
  },
  {
   "cell_type": "code",
   "execution_count": 5,
   "id": "0d5391a2-302c-45ff-951a-ea698beb7b4c",
   "metadata": {},
   "outputs": [
    {
     "name": "stdout",
     "output_type": "stream",
     "text": [
      "Epoch 1/20\n"
     ]
    },
    {
     "name": "stdout",
     "output_type": "stream",
     "text": [
      "\n",
      "Epoch 1: val_accuracy improved from -inf to 0.90202, saving model to model-epoch01-valacc0.90.keras\n"
     ]
    },
    {
     "name": "stdout",
     "output_type": "stream",
     "text": [
      "90/90 - 32s - 351ms/step - accuracy: 0.8082 - auc: 0.8811 - loss: 0.4725 - val_accuracy: 0.9020 - val_auc: 0.9657 - val_loss: 0.2671\n"
     ]
    },
    {
     "name": "stdout",
     "output_type": "stream",
     "text": [
      "Epoch 2/20\n"
     ]
    },
    {
     "name": "stdout",
     "output_type": "stream",
     "text": [
      "\n",
      "Epoch 2: val_accuracy improved from 0.90202 to 0.91066, saving model to model-epoch02-valacc0.91.keras\n"
     ]
    },
    {
     "name": "stdout",
     "output_type": "stream",
     "text": [
      "90/90 - 29s - 322ms/step - accuracy: 0.9231 - auc: 0.9747 - loss: 0.2011 - val_accuracy: 0.9107 - val_auc: 0.9672 - val_loss: 0.2517\n"
     ]
    },
    {
     "name": "stdout",
     "output_type": "stream",
     "text": [
      "Epoch 3/20\n"
     ]
    },
    {
     "name": "stdout",
     "output_type": "stream",
     "text": [
      "\n",
      "Epoch 3: val_accuracy improved from 0.91066 to 0.92363, saving model to model-epoch03-valacc0.92.keras\n"
     ]
    },
    {
     "name": "stdout",
     "output_type": "stream",
     "text": [
      "90/90 - 29s - 324ms/step - accuracy: 0.9462 - auc: 0.9851 - loss: 0.1505 - val_accuracy: 0.9236 - val_auc: 0.9746 - val_loss: 0.2185\n"
     ]
    },
    {
     "name": "stdout",
     "output_type": "stream",
     "text": [
      "Epoch 4/20\n"
     ]
    },
    {
     "name": "stdout",
     "output_type": "stream",
     "text": [
      "\n",
      "Epoch 4: val_accuracy improved from 0.92363 to 0.93516, saving model to model-epoch04-valacc0.94.keras\n"
     ]
    },
    {
     "name": "stdout",
     "output_type": "stream",
     "text": [
      "90/90 - 29s - 324ms/step - accuracy: 0.9619 - auc: 0.9928 - loss: 0.1049 - val_accuracy: 0.9352 - val_auc: 0.9773 - val_loss: 0.1971\n"
     ]
    },
    {
     "name": "stdout",
     "output_type": "stream",
     "text": [
      "Epoch 5/20\n"
     ]
    },
    {
     "name": "stdout",
     "output_type": "stream",
     "text": [
      "\n",
      "Epoch 5: val_accuracy improved from 0.93516 to 0.95965, saving model to model-epoch05-valacc0.96.keras\n"
     ]
    },
    {
     "name": "stdout",
     "output_type": "stream",
     "text": [
      "90/90 - 29s - 323ms/step - accuracy: 0.9644 - auc: 0.9935 - loss: 0.0952 - val_accuracy: 0.9597 - val_auc: 0.9878 - val_loss: 0.1440\n"
     ]
    },
    {
     "name": "stdout",
     "output_type": "stream",
     "text": [
      "Epoch 6/20\n"
     ]
    },
    {
     "name": "stdout",
     "output_type": "stream",
     "text": [
      "\n",
      "Epoch 6: val_accuracy improved from 0.95965 to 0.96542, saving model to model-epoch06-valacc0.97.keras\n"
     ]
    },
    {
     "name": "stdout",
     "output_type": "stream",
     "text": [
      "90/90 - 29s - 322ms/step - accuracy: 0.9787 - auc: 0.9972 - loss: 0.0607 - val_accuracy: 0.9654 - val_auc: 0.9928 - val_loss: 0.1165\n"
     ]
    },
    {
     "name": "stdout",
     "output_type": "stream",
     "text": [
      "Epoch 7/20\n"
     ]
    },
    {
     "name": "stdout",
     "output_type": "stream",
     "text": [
      "\n",
      "Epoch 7: val_accuracy did not improve from 0.96542\n"
     ]
    },
    {
     "name": "stdout",
     "output_type": "stream",
     "text": [
      "90/90 - 29s - 323ms/step - accuracy: 0.9867 - auc: 0.9979 - loss: 0.0465 - val_accuracy: 0.9654 - val_auc: 0.9825 - val_loss: 0.1700\n"
     ]
    },
    {
     "name": "stdout",
     "output_type": "stream",
     "text": [
      "Epoch 8/20\n"
     ]
    },
    {
     "name": "stdout",
     "output_type": "stream",
     "text": [
      "\n",
      "Epoch 8: val_accuracy did not improve from 0.96542\n"
     ]
    },
    {
     "name": "stdout",
     "output_type": "stream",
     "text": [
      "90/90 - 29s - 321ms/step - accuracy: 0.9846 - auc: 0.9979 - loss: 0.0491 - val_accuracy: 0.9625 - val_auc: 0.9874 - val_loss: 0.1446\n"
     ]
    },
    {
     "name": "stdout",
     "output_type": "stream",
     "text": [
      "Epoch 9/20\n"
     ]
    },
    {
     "name": "stdout",
     "output_type": "stream",
     "text": [
      "\n",
      "Epoch 9: val_accuracy improved from 0.96542 to 0.96830, saving model to model-epoch09-valacc0.97.keras\n"
     ]
    },
    {
     "name": "stdout",
     "output_type": "stream",
     "text": [
      "90/90 - 29s - 323ms/step - accuracy: 0.9825 - auc: 0.9970 - loss: 0.0524 - val_accuracy: 0.9683 - val_auc: 0.9867 - val_loss: 0.1466\n"
     ]
    },
    {
     "name": "stdout",
     "output_type": "stream",
     "text": [
      "Epoch 10/20\n"
     ]
    },
    {
     "name": "stdout",
     "output_type": "stream",
     "text": [
      "\n",
      "Epoch 10: val_accuracy did not improve from 0.96830\n"
     ]
    },
    {
     "name": "stdout",
     "output_type": "stream",
     "text": [
      "90/90 - 29s - 322ms/step - accuracy: 0.9867 - auc: 0.9985 - loss: 0.0367 - val_accuracy: 0.9669 - val_auc: 0.9884 - val_loss: 0.1377\n"
     ]
    },
    {
     "name": "stdout",
     "output_type": "stream",
     "text": [
      "Epoch 11/20\n"
     ]
    },
    {
     "name": "stdout",
     "output_type": "stream",
     "text": [
      "\n",
      "Epoch 11: val_accuracy did not improve from 0.96830\n"
     ]
    },
    {
     "name": "stdout",
     "output_type": "stream",
     "text": [
      "90/90 - 29s - 322ms/step - accuracy: 0.9871 - auc: 0.9988 - loss: 0.0388 - val_accuracy: 0.9669 - val_auc: 0.9883 - val_loss: 0.1415\n"
     ]
    },
    {
     "name": "stdout",
     "output_type": "stream",
     "text": [
      "Epoch 12/20\n"
     ]
    },
    {
     "name": "stdout",
     "output_type": "stream",
     "text": [
      "\n",
      "Epoch 12: val_accuracy did not improve from 0.96830\n"
     ]
    },
    {
     "name": "stdout",
     "output_type": "stream",
     "text": [
      "90/90 - 29s - 323ms/step - accuracy: 0.9860 - auc: 0.9980 - loss: 0.0440 - val_accuracy: 0.9683 - val_auc: 0.9892 - val_loss: 0.1247\n"
     ]
    },
    {
     "name": "stdout",
     "output_type": "stream",
     "text": [
      "Epoch 13/20\n"
     ]
    },
    {
     "name": "stdout",
     "output_type": "stream",
     "text": [
      "\n",
      "Epoch 13: val_accuracy did not improve from 0.96830\n"
     ]
    },
    {
     "name": "stdout",
     "output_type": "stream",
     "text": [
      "90/90 - 29s - 319ms/step - accuracy: 0.9899 - auc: 0.9985 - loss: 0.0340 - val_accuracy: 0.9524 - val_auc: 0.9927 - val_loss: 0.1351\n"
     ]
    },
    {
     "name": "stdout",
     "output_type": "stream",
     "text": [
      "Epoch 14/20\n"
     ]
    },
    {
     "name": "stdout",
     "output_type": "stream",
     "text": [
      "\n",
      "Epoch 14: val_accuracy did not improve from 0.96830\n"
     ]
    },
    {
     "name": "stdout",
     "output_type": "stream",
     "text": [
      "90/90 - 29s - 320ms/step - accuracy: 0.9895 - auc: 0.9988 - loss: 0.0301 - val_accuracy: 0.9524 - val_auc: 0.9907 - val_loss: 0.1396\n"
     ]
    },
    {
     "name": "stdout",
     "output_type": "stream",
     "text": [
      "Epoch 14: early stopping\n"
     ]
    },
    {
     "name": "stdout",
     "output_type": "stream",
     "text": [
      "\n",
      "Running fold 2/5\n"
     ]
    },
    {
     "name": "stdout",
     "output_type": "stream",
     "text": [
      "Epoch 1/20\n"
     ]
    },
    {
     "name": "stdout",
     "output_type": "stream",
     "text": [
      "\n",
      "Epoch 1: val_accuracy improved from -inf to 0.78830, saving model to model-epoch01-valacc0.79.keras\n"
     ]
    },
    {
     "name": "stdout",
     "output_type": "stream",
     "text": [
      "89/89 - 31s - 346ms/step - accuracy: 0.8203 - auc: 0.8975 - loss: 0.4333 - val_accuracy: 0.7883 - val_auc: 0.8925 - val_loss: 0.7838\n"
     ]
    },
    {
     "name": "stdout",
     "output_type": "stream",
     "text": [
      "Epoch 2/20\n"
     ]
    },
    {
     "name": "stdout",
     "output_type": "stream",
     "text": [
      "\n",
      "Epoch 2: val_accuracy improved from 0.78830 to 0.83983, saving model to model-epoch02-valacc0.84.keras\n"
     ]
    },
    {
     "name": "stdout",
     "output_type": "stream",
     "text": [
      "89/89 - 29s - 324ms/step - accuracy: 0.9214 - auc: 0.9767 - loss: 0.1948 - val_accuracy: 0.8398 - val_auc: 0.9282 - val_loss: 0.5717\n"
     ]
    },
    {
     "name": "stdout",
     "output_type": "stream",
     "text": [
      "Epoch 3/20\n"
     ]
    },
    {
     "name": "stdout",
     "output_type": "stream",
     "text": [
      "\n",
      "Epoch 3: val_accuracy improved from 0.83983 to 0.91365, saving model to model-epoch03-valacc0.91.keras\n"
     ]
    },
    {
     "name": "stdout",
     "output_type": "stream",
     "text": [
      "89/89 - 29s - 323ms/step - accuracy: 0.9567 - auc: 0.9906 - loss: 0.1199 - val_accuracy: 0.9136 - val_auc: 0.9599 - val_loss: 0.3083\n"
     ]
    },
    {
     "name": "stdout",
     "output_type": "stream",
     "text": [
      "Epoch 4/20\n"
     ]
    },
    {
     "name": "stdout",
     "output_type": "stream",
     "text": [
      "\n",
      "Epoch 4: val_accuracy did not improve from 0.91365\n"
     ]
    },
    {
     "name": "stdout",
     "output_type": "stream",
     "text": [
      "89/89 - 29s - 323ms/step - accuracy: 0.9718 - auc: 0.9957 - loss: 0.0780 - val_accuracy: 0.8955 - val_auc: 0.9529 - val_loss: 0.4151\n"
     ]
    },
    {
     "name": "stdout",
     "output_type": "stream",
     "text": [
      "Epoch 5/20\n"
     ]
    },
    {
     "name": "stdout",
     "output_type": "stream",
     "text": [
      "\n",
      "Epoch 5: val_accuracy did not improve from 0.91365\n"
     ]
    },
    {
     "name": "stdout",
     "output_type": "stream",
     "text": [
      "89/89 - 29s - 323ms/step - accuracy: 0.9778 - auc: 0.9976 - loss: 0.0614 - val_accuracy: 0.8788 - val_auc: 0.9514 - val_loss: 0.4186\n"
     ]
    },
    {
     "name": "stdout",
     "output_type": "stream",
     "text": [
      "Epoch 6/20\n"
     ]
    },
    {
     "name": "stdout",
     "output_type": "stream",
     "text": [
      "\n",
      "Epoch 6: val_accuracy did not improve from 0.91365\n"
     ]
    },
    {
     "name": "stdout",
     "output_type": "stream",
     "text": [
      "89/89 - 29s - 323ms/step - accuracy: 0.9729 - auc: 0.9944 - loss: 0.0829 - val_accuracy: 0.8969 - val_auc: 0.9568 - val_loss: 0.3406\n"
     ]
    },
    {
     "name": "stdout",
     "output_type": "stream",
     "text": [
      "Epoch 7/20\n"
     ]
    },
    {
     "name": "stdout",
     "output_type": "stream",
     "text": [
      "\n",
      "Epoch 7: val_accuracy improved from 0.91365 to 0.91643, saving model to model-epoch07-valacc0.92.keras\n"
     ]
    },
    {
     "name": "stdout",
     "output_type": "stream",
     "text": [
      "89/89 - 29s - 324ms/step - accuracy: 0.9824 - auc: 0.9974 - loss: 0.0535 - val_accuracy: 0.9164 - val_auc: 0.9663 - val_loss: 0.3313\n"
     ]
    },
    {
     "name": "stdout",
     "output_type": "stream",
     "text": [
      "Epoch 8/20\n"
     ]
    },
    {
     "name": "stdout",
     "output_type": "stream",
     "text": [
      "\n",
      "Epoch 8: val_accuracy did not improve from 0.91643\n"
     ]
    },
    {
     "name": "stdout",
     "output_type": "stream",
     "text": [
      "89/89 - 29s - 323ms/step - accuracy: 0.9799 - auc: 0.9980 - loss: 0.0521 - val_accuracy: 0.9095 - val_auc: 0.9562 - val_loss: 0.3870\n"
     ]
    },
    {
     "name": "stdout",
     "output_type": "stream",
     "text": [
      "Epoch 9/20\n"
     ]
    },
    {
     "name": "stdout",
     "output_type": "stream",
     "text": [
      "\n",
      "Epoch 9: val_accuracy did not improve from 0.91643\n"
     ]
    },
    {
     "name": "stdout",
     "output_type": "stream",
     "text": [
      "89/89 - 29s - 322ms/step - accuracy: 0.9824 - auc: 0.9974 - loss: 0.0526 - val_accuracy: 0.9081 - val_auc: 0.9634 - val_loss: 0.3303\n"
     ]
    },
    {
     "name": "stdout",
     "output_type": "stream",
     "text": [
      "Epoch 10/20\n"
     ]
    },
    {
     "name": "stdout",
     "output_type": "stream",
     "text": [
      "\n",
      "Epoch 10: val_accuracy improved from 0.91643 to 0.93733, saving model to model-epoch10-valacc0.94.keras\n"
     ]
    },
    {
     "name": "stdout",
     "output_type": "stream",
     "text": [
      "89/89 - 29s - 322ms/step - accuracy: 0.9891 - auc: 0.9994 - loss: 0.0315 - val_accuracy: 0.9373 - val_auc: 0.9715 - val_loss: 0.2840\n"
     ]
    },
    {
     "name": "stdout",
     "output_type": "stream",
     "text": [
      "Epoch 11/20\n"
     ]
    },
    {
     "name": "stdout",
     "output_type": "stream",
     "text": [
      "\n",
      "Epoch 11: val_accuracy did not improve from 0.93733\n"
     ]
    },
    {
     "name": "stdout",
     "output_type": "stream",
     "text": [
      "89/89 - 29s - 324ms/step - accuracy: 0.9817 - auc: 0.9970 - loss: 0.0570 - val_accuracy: 0.9150 - val_auc: 0.9646 - val_loss: 0.2973\n"
     ]
    },
    {
     "name": "stdout",
     "output_type": "stream",
     "text": [
      "Epoch 12/20\n"
     ]
    },
    {
     "name": "stdout",
     "output_type": "stream",
     "text": [
      "\n",
      "Epoch 12: val_accuracy did not improve from 0.93733\n"
     ]
    },
    {
     "name": "stdout",
     "output_type": "stream",
     "text": [
      "89/89 - 29s - 323ms/step - accuracy: 0.9803 - auc: 0.9977 - loss: 0.0557 - val_accuracy: 0.9359 - val_auc: 0.9682 - val_loss: 0.2670\n"
     ]
    },
    {
     "name": "stdout",
     "output_type": "stream",
     "text": [
      "Epoch 13/20\n"
     ]
    },
    {
     "name": "stdout",
     "output_type": "stream",
     "text": [
      "\n",
      "Epoch 13: val_accuracy improved from 0.93733 to 0.95543, saving model to model-epoch13-valacc0.96.keras\n"
     ]
    },
    {
     "name": "stdout",
     "output_type": "stream",
     "text": [
      "89/89 - 29s - 323ms/step - accuracy: 0.9891 - auc: 0.9991 - loss: 0.0312 - val_accuracy: 0.9554 - val_auc: 0.9756 - val_loss: 0.2152\n"
     ]
    },
    {
     "name": "stdout",
     "output_type": "stream",
     "text": [
      "Epoch 14/20\n"
     ]
    },
    {
     "name": "stdout",
     "output_type": "stream",
     "text": [
      "\n",
      "Epoch 14: val_accuracy did not improve from 0.95543\n"
     ]
    },
    {
     "name": "stdout",
     "output_type": "stream",
     "text": [
      "89/89 - 29s - 323ms/step - accuracy: 0.9926 - auc: 0.9994 - loss: 0.0222 - val_accuracy: 0.9415 - val_auc: 0.9703 - val_loss: 0.2974\n"
     ]
    },
    {
     "name": "stdout",
     "output_type": "stream",
     "text": [
      "Epoch 15/20\n"
     ]
    },
    {
     "name": "stdout",
     "output_type": "stream",
     "text": [
      "\n",
      "Epoch 15: val_accuracy did not improve from 0.95543\n"
     ]
    },
    {
     "name": "stdout",
     "output_type": "stream",
     "text": [
      "89/89 - 29s - 322ms/step - accuracy: 0.9841 - auc: 0.9961 - loss: 0.0529 - val_accuracy: 0.9290 - val_auc: 0.9733 - val_loss: 0.2508\n"
     ]
    },
    {
     "name": "stdout",
     "output_type": "stream",
     "text": [
      "Epoch 16/20\n"
     ]
    },
    {
     "name": "stdout",
     "output_type": "stream",
     "text": [
      "\n",
      "Epoch 16: val_accuracy did not improve from 0.95543\n"
     ]
    },
    {
     "name": "stdout",
     "output_type": "stream",
     "text": [
      "89/89 - 29s - 323ms/step - accuracy: 0.9933 - auc: 0.9989 - loss: 0.0256 - val_accuracy: 0.9164 - val_auc: 0.9575 - val_loss: 0.3942\n"
     ]
    },
    {
     "name": "stdout",
     "output_type": "stream",
     "text": [
      "Epoch 17/20\n"
     ]
    },
    {
     "name": "stdout",
     "output_type": "stream",
     "text": [
      "\n",
      "Epoch 17: val_accuracy did not improve from 0.95543\n"
     ]
    },
    {
     "name": "stdout",
     "output_type": "stream",
     "text": [
      "89/89 - 29s - 322ms/step - accuracy: 0.9831 - auc: 0.9973 - loss: 0.0565 - val_accuracy: 0.9331 - val_auc: 0.9681 - val_loss: 0.3140\n"
     ]
    },
    {
     "name": "stdout",
     "output_type": "stream",
     "text": [
      "Epoch 18/20\n"
     ]
    },
    {
     "name": "stdout",
     "output_type": "stream",
     "text": [
      "\n",
      "Epoch 18: val_accuracy did not improve from 0.95543\n"
     ]
    },
    {
     "name": "stdout",
     "output_type": "stream",
     "text": [
      "89/89 - 29s - 322ms/step - accuracy: 0.9880 - auc: 0.9985 - loss: 0.0377 - val_accuracy: 0.9401 - val_auc: 0.9756 - val_loss: 0.2461\n"
     ]
    },
    {
     "name": "stdout",
     "output_type": "stream",
     "text": [
      "Epoch 18: early stopping\n"
     ]
    },
    {
     "name": "stdout",
     "output_type": "stream",
     "text": [
      "\n",
      "Running fold 3/5\n"
     ]
    },
    {
     "name": "stdout",
     "output_type": "stream",
     "text": [
      "Epoch 1/20\n"
     ]
    },
    {
     "name": "stdout",
     "output_type": "stream",
     "text": [
      "\n",
      "Epoch 1: val_accuracy improved from -inf to 0.84719, saving model to model-epoch01-valacc0.85.keras\n"
     ]
    },
    {
     "name": "stdout",
     "output_type": "stream",
     "text": [
      "88/88 - 31s - 351ms/step - accuracy: 0.7929 - auc: 0.8802 - loss: 0.4675 - val_accuracy: 0.8472 - val_auc: 0.9094 - val_loss: 0.6056\n"
     ]
    },
    {
     "name": "stdout",
     "output_type": "stream",
     "text": [
      "Epoch 2/20\n"
     ]
    },
    {
     "name": "stdout",
     "output_type": "stream",
     "text": [
      "\n",
      "Epoch 2: val_accuracy improved from 0.84719 to 0.87802, saving model to model-epoch02-valacc0.88.keras\n"
     ]
    },
    {
     "name": "stdout",
     "output_type": "stream",
     "text": [
      "88/88 - 29s - 328ms/step - accuracy: 0.9295 - auc: 0.9809 - loss: 0.1765 - val_accuracy: 0.8780 - val_auc: 0.9465 - val_loss: 0.3357\n"
     ]
    },
    {
     "name": "stdout",
     "output_type": "stream",
     "text": [
      "Epoch 3/20\n"
     ]
    },
    {
     "name": "stdout",
     "output_type": "stream",
     "text": [
      "\n",
      "Epoch 3: val_accuracy improved from 0.87802 to 0.90080, saving model to model-epoch03-valacc0.90.keras\n"
     ]
    },
    {
     "name": "stdout",
     "output_type": "stream",
     "text": [
      "88/88 - 29s - 327ms/step - accuracy: 0.9516 - auc: 0.9888 - loss: 0.1328 - val_accuracy: 0.9008 - val_auc: 0.9656 - val_loss: 0.2866\n"
     ]
    },
    {
     "name": "stdout",
     "output_type": "stream",
     "text": [
      "Epoch 4/20\n"
     ]
    },
    {
     "name": "stdout",
     "output_type": "stream",
     "text": [
      "\n",
      "Epoch 4: val_accuracy improved from 0.90080 to 0.91153, saving model to model-epoch04-valacc0.91.keras\n"
     ]
    },
    {
     "name": "stdout",
     "output_type": "stream",
     "text": [
      "88/88 - 29s - 326ms/step - accuracy: 0.9669 - auc: 0.9955 - loss: 0.0846 - val_accuracy: 0.9115 - val_auc: 0.9605 - val_loss: 0.3324\n"
     ]
    },
    {
     "name": "stdout",
     "output_type": "stream",
     "text": [
      "Epoch 5/20\n"
     ]
    },
    {
     "name": "stdout",
     "output_type": "stream",
     "text": [
      "\n",
      "Epoch 5: val_accuracy did not improve from 0.91153\n"
     ]
    },
    {
     "name": "stdout",
     "output_type": "stream",
     "text": [
      "88/88 - 29s - 325ms/step - accuracy: 0.9701 - auc: 0.9952 - loss: 0.0819 - val_accuracy: 0.9088 - val_auc: 0.9474 - val_loss: 0.4255\n"
     ]
    },
    {
     "name": "stdout",
     "output_type": "stream",
     "text": [
      "Epoch 6/20\n"
     ]
    },
    {
     "name": "stdout",
     "output_type": "stream",
     "text": [
      "\n",
      "Epoch 6: val_accuracy did not improve from 0.91153\n"
     ]
    },
    {
     "name": "stdout",
     "output_type": "stream",
     "text": [
      "88/88 - 29s - 325ms/step - accuracy: 0.9705 - auc: 0.9960 - loss: 0.0794 - val_accuracy: 0.9115 - val_auc: 0.9618 - val_loss: 0.4120\n"
     ]
    },
    {
     "name": "stdout",
     "output_type": "stream",
     "text": [
      "Epoch 7/20\n"
     ]
    },
    {
     "name": "stdout",
     "output_type": "stream",
     "text": [
      "\n",
      "Epoch 7: val_accuracy improved from 0.91153 to 0.91823, saving model to model-epoch07-valacc0.92.keras\n"
     ]
    },
    {
     "name": "stdout",
     "output_type": "stream",
     "text": [
      "88/88 - 29s - 326ms/step - accuracy: 0.9819 - auc: 0.9970 - loss: 0.0545 - val_accuracy: 0.9182 - val_auc: 0.9606 - val_loss: 0.3357\n"
     ]
    },
    {
     "name": "stdout",
     "output_type": "stream",
     "text": [
      "Epoch 8/20\n"
     ]
    },
    {
     "name": "stdout",
     "output_type": "stream",
     "text": [
      "\n",
      "Epoch 8: val_accuracy improved from 0.91823 to 0.93834, saving model to model-epoch08-valacc0.94.keras\n"
     ]
    },
    {
     "name": "stdout",
     "output_type": "stream",
     "text": [
      "88/88 - 29s - 325ms/step - accuracy: 0.9861 - auc: 0.9992 - loss: 0.0364 - val_accuracy: 0.9383 - val_auc: 0.9697 - val_loss: 0.2488\n"
     ]
    },
    {
     "name": "stdout",
     "output_type": "stream",
     "text": [
      "Epoch 9/20\n"
     ]
    },
    {
     "name": "stdout",
     "output_type": "stream",
     "text": [
      "\n",
      "Epoch 9: val_accuracy did not improve from 0.93834\n"
     ]
    },
    {
     "name": "stdout",
     "output_type": "stream",
     "text": [
      "88/88 - 29s - 326ms/step - accuracy: 0.9840 - auc: 0.9981 - loss: 0.0445 - val_accuracy: 0.9303 - val_auc: 0.9658 - val_loss: 0.2883\n"
     ]
    },
    {
     "name": "stdout",
     "output_type": "stream",
     "text": [
      "Epoch 10/20\n"
     ]
    },
    {
     "name": "stdout",
     "output_type": "stream",
     "text": [
      "\n",
      "Epoch 10: val_accuracy did not improve from 0.93834\n"
     ]
    },
    {
     "name": "stdout",
     "output_type": "stream",
     "text": [
      "88/88 - 29s - 325ms/step - accuracy: 0.9879 - auc: 0.9983 - loss: 0.0407 - val_accuracy: 0.9383 - val_auc: 0.9724 - val_loss: 0.2973\n"
     ]
    },
    {
     "name": "stdout",
     "output_type": "stream",
     "text": [
      "Epoch 11/20\n"
     ]
    },
    {
     "name": "stdout",
     "output_type": "stream",
     "text": [
      "\n",
      "Epoch 11: val_accuracy improved from 0.93834 to 0.94370, saving model to model-epoch11-valacc0.94.keras\n"
     ]
    },
    {
     "name": "stdout",
     "output_type": "stream",
     "text": [
      "88/88 - 29s - 327ms/step - accuracy: 0.9822 - auc: 0.9964 - loss: 0.0554 - val_accuracy: 0.9437 - val_auc: 0.9838 - val_loss: 0.1810\n"
     ]
    },
    {
     "name": "stdout",
     "output_type": "stream",
     "text": [
      "Epoch 12/20\n"
     ]
    },
    {
     "name": "stdout",
     "output_type": "stream",
     "text": [
      "\n",
      "Epoch 12: val_accuracy improved from 0.94370 to 0.94906, saving model to model-epoch12-valacc0.95.keras\n"
     ]
    },
    {
     "name": "stdout",
     "output_type": "stream",
     "text": [
      "88/88 - 29s - 326ms/step - accuracy: 0.9918 - auc: 0.9988 - loss: 0.0307 - val_accuracy: 0.9491 - val_auc: 0.9838 - val_loss: 0.1848\n"
     ]
    },
    {
     "name": "stdout",
     "output_type": "stream",
     "text": [
      "Epoch 13/20\n"
     ]
    },
    {
     "name": "stdout",
     "output_type": "stream",
     "text": [
      "\n",
      "Epoch 13: val_accuracy did not improve from 0.94906\n"
     ]
    },
    {
     "name": "stdout",
     "output_type": "stream",
     "text": [
      "88/88 - 29s - 325ms/step - accuracy: 0.9907 - auc: 0.9992 - loss: 0.0267 - val_accuracy: 0.9397 - val_auc: 0.9708 - val_loss: 0.2678\n"
     ]
    },
    {
     "name": "stdout",
     "output_type": "stream",
     "text": [
      "Epoch 14/20\n"
     ]
    },
    {
     "name": "stdout",
     "output_type": "stream",
     "text": [
      "\n",
      "Epoch 14: val_accuracy did not improve from 0.94906\n"
     ]
    },
    {
     "name": "stdout",
     "output_type": "stream",
     "text": [
      "88/88 - 29s - 325ms/step - accuracy: 0.9890 - auc: 0.9981 - loss: 0.0414 - val_accuracy: 0.9196 - val_auc: 0.9670 - val_loss: 0.3179\n"
     ]
    },
    {
     "name": "stdout",
     "output_type": "stream",
     "text": [
      "Epoch 15/20\n"
     ]
    },
    {
     "name": "stdout",
     "output_type": "stream",
     "text": [
      "\n",
      "Epoch 15: val_accuracy did not improve from 0.94906\n"
     ]
    },
    {
     "name": "stdout",
     "output_type": "stream",
     "text": [
      "88/88 - 29s - 324ms/step - accuracy: 0.9943 - auc: 0.9999 - loss: 0.0141 - val_accuracy: 0.9383 - val_auc: 0.9670 - val_loss: 0.3047\n"
     ]
    },
    {
     "name": "stdout",
     "output_type": "stream",
     "text": [
      "Epoch 16/20\n"
     ]
    },
    {
     "name": "stdout",
     "output_type": "stream",
     "text": [
      "\n",
      "Epoch 16: val_accuracy did not improve from 0.94906\n"
     ]
    },
    {
     "name": "stdout",
     "output_type": "stream",
     "text": [
      "88/88 - 29s - 327ms/step - accuracy: 0.9868 - auc: 0.9970 - loss: 0.0476 - val_accuracy: 0.9370 - val_auc: 0.9696 - val_loss: 0.2589\n"
     ]
    },
    {
     "name": "stdout",
     "output_type": "stream",
     "text": [
      "Epoch 17/20\n"
     ]
    },
    {
     "name": "stdout",
     "output_type": "stream",
     "text": [
      "\n",
      "Epoch 17: val_accuracy did not improve from 0.94906\n"
     ]
    },
    {
     "name": "stdout",
     "output_type": "stream",
     "text": [
      "88/88 - 29s - 326ms/step - accuracy: 0.9954 - auc: 0.9999 - loss: 0.0158 - val_accuracy: 0.9357 - val_auc: 0.9662 - val_loss: 0.3077\n"
     ]
    },
    {
     "name": "stdout",
     "output_type": "stream",
     "text": [
      "Epoch 17: early stopping\n"
     ]
    },
    {
     "name": "stdout",
     "output_type": "stream",
     "text": [
      "\n",
      "Running fold 4/5\n"
     ]
    },
    {
     "name": "stdout",
     "output_type": "stream",
     "text": [
      "Epoch 1/20\n"
     ]
    },
    {
     "name": "stdout",
     "output_type": "stream",
     "text": [
      "\n",
      "Epoch 1: val_accuracy improved from -inf to 0.72096, saving model to model-epoch01-valacc0.72.keras\n"
     ]
    },
    {
     "name": "stdout",
     "output_type": "stream",
     "text": [
      "90/90 - 31s - 348ms/step - accuracy: 0.8084 - auc: 0.8774 - loss: 0.4906 - val_accuracy: 0.7210 - val_auc: 0.9250 - val_loss: 0.9983\n"
     ]
    },
    {
     "name": "stdout",
     "output_type": "stream",
     "text": [
      "Epoch 2/20\n"
     ]
    },
    {
     "name": "stdout",
     "output_type": "stream",
     "text": [
      "\n",
      "Epoch 2: val_accuracy improved from 0.72096 to 0.86261, saving model to model-epoch02-valacc0.86.keras\n"
     ]
    },
    {
     "name": "stdout",
     "output_type": "stream",
     "text": [
      "90/90 - 29s - 322ms/step - accuracy: 0.9249 - auc: 0.9762 - loss: 0.1999 - val_accuracy: 0.8626 - val_auc: 0.9654 - val_loss: 0.6087\n"
     ]
    },
    {
     "name": "stdout",
     "output_type": "stream",
     "text": [
      "Epoch 3/20\n"
     ]
    },
    {
     "name": "stdout",
     "output_type": "stream",
     "text": [
      "\n",
      "Epoch 3: val_accuracy improved from 0.86261 to 0.91643, saving model to model-epoch03-valacc0.92.keras\n"
     ]
    },
    {
     "name": "stdout",
     "output_type": "stream",
     "text": [
      "90/90 - 29s - 324ms/step - accuracy: 0.9421 - auc: 0.9825 - loss: 0.1648 - val_accuracy: 0.9164 - val_auc: 0.9796 - val_loss: 0.3009\n"
     ]
    },
    {
     "name": "stdout",
     "output_type": "stream",
     "text": [
      "Epoch 4/20\n"
     ]
    },
    {
     "name": "stdout",
     "output_type": "stream",
     "text": [
      "\n",
      "Epoch 4: val_accuracy did not improve from 0.91643\n"
     ]
    },
    {
     "name": "stdout",
     "output_type": "stream",
     "text": [
      "90/90 - 29s - 322ms/step - accuracy: 0.9684 - auc: 0.9941 - loss: 0.0915 - val_accuracy: 0.9023 - val_auc: 0.9651 - val_loss: 0.4918\n"
     ]
    },
    {
     "name": "stdout",
     "output_type": "stream",
     "text": [
      "Epoch 5/20\n"
     ]
    },
    {
     "name": "stdout",
     "output_type": "stream",
     "text": [
      "\n",
      "Epoch 5: val_accuracy improved from 0.91643 to 0.92068, saving model to model-epoch05-valacc0.92.keras\n"
     ]
    },
    {
     "name": "stdout",
     "output_type": "stream",
     "text": [
      "90/90 - 29s - 325ms/step - accuracy: 0.9723 - auc: 0.9945 - loss: 0.0850 - val_accuracy: 0.9207 - val_auc: 0.9810 - val_loss: 0.3283\n"
     ]
    },
    {
     "name": "stdout",
     "output_type": "stream",
     "text": [
      "Epoch 6/20\n"
     ]
    },
    {
     "name": "stdout",
     "output_type": "stream",
     "text": [
      "\n",
      "Epoch 6: val_accuracy improved from 0.92068 to 0.93626, saving model to model-epoch06-valacc0.94.keras\n"
     ]
    },
    {
     "name": "stdout",
     "output_type": "stream",
     "text": [
      "90/90 - 29s - 323ms/step - accuracy: 0.9733 - auc: 0.9959 - loss: 0.0748 - val_accuracy: 0.9363 - val_auc: 0.9801 - val_loss: 0.2460\n"
     ]
    },
    {
     "name": "stdout",
     "output_type": "stream",
     "text": [
      "Epoch 7/20\n"
     ]
    },
    {
     "name": "stdout",
     "output_type": "stream",
     "text": [
      "\n",
      "Epoch 7: val_accuracy improved from 0.93626 to 0.95184, saving model to model-epoch07-valacc0.95.keras\n"
     ]
    },
    {
     "name": "stdout",
     "output_type": "stream",
     "text": [
      "90/90 - 29s - 323ms/step - accuracy: 0.9811 - auc: 0.9974 - loss: 0.0567 - val_accuracy: 0.9518 - val_auc: 0.9773 - val_loss: 0.2303\n"
     ]
    },
    {
     "name": "stdout",
     "output_type": "stream",
     "text": [
      "Epoch 8/20\n"
     ]
    },
    {
     "name": "stdout",
     "output_type": "stream",
     "text": [
      "\n",
      "Epoch 8: val_accuracy did not improve from 0.95184\n"
     ]
    },
    {
     "name": "stdout",
     "output_type": "stream",
     "text": [
      "90/90 - 29s - 321ms/step - accuracy: 0.9740 - auc: 0.9954 - loss: 0.0758 - val_accuracy: 0.9433 - val_auc: 0.9819 - val_loss: 0.1883\n"
     ]
    },
    {
     "name": "stdout",
     "output_type": "stream",
     "text": [
      "Epoch 9/20\n"
     ]
    },
    {
     "name": "stdout",
     "output_type": "stream",
     "text": [
      "\n",
      "Epoch 9: val_accuracy did not improve from 0.95184\n"
     ]
    },
    {
     "name": "stdout",
     "output_type": "stream",
     "text": [
      "90/90 - 29s - 321ms/step - accuracy: 0.9796 - auc: 0.9969 - loss: 0.0643 - val_accuracy: 0.9334 - val_auc: 0.9829 - val_loss: 0.1777\n"
     ]
    },
    {
     "name": "stdout",
     "output_type": "stream",
     "text": [
      "Epoch 10/20\n"
     ]
    },
    {
     "name": "stdout",
     "output_type": "stream",
     "text": [
      "\n",
      "Epoch 10: val_accuracy did not improve from 0.95184\n"
     ]
    },
    {
     "name": "stdout",
     "output_type": "stream",
     "text": [
      "90/90 - 29s - 322ms/step - accuracy: 0.9418 - auc: 0.9826 - loss: 0.1659 - val_accuracy: 0.9348 - val_auc: 0.9742 - val_loss: 0.2687\n"
     ]
    },
    {
     "name": "stdout",
     "output_type": "stream",
     "text": [
      "Epoch 11/20\n"
     ]
    },
    {
     "name": "stdout",
     "output_type": "stream",
     "text": [
      "\n",
      "Epoch 11: val_accuracy did not improve from 0.95184\n"
     ]
    },
    {
     "name": "stdout",
     "output_type": "stream",
     "text": [
      "90/90 - 29s - 321ms/step - accuracy: 0.9719 - auc: 0.9931 - loss: 0.0858 - val_accuracy: 0.9306 - val_auc: 0.9784 - val_loss: 0.2396\n"
     ]
    },
    {
     "name": "stdout",
     "output_type": "stream",
     "text": [
      "Epoch 12/20\n"
     ]
    },
    {
     "name": "stdout",
     "output_type": "stream",
     "text": [
      "\n",
      "Epoch 12: val_accuracy did not improve from 0.95184\n"
     ]
    },
    {
     "name": "stdout",
     "output_type": "stream",
     "text": [
      "90/90 - 29s - 322ms/step - accuracy: 0.9877 - auc: 0.9992 - loss: 0.0353 - val_accuracy: 0.9476 - val_auc: 0.9875 - val_loss: 0.1649\n"
     ]
    },
    {
     "name": "stdout",
     "output_type": "stream",
     "text": [
      "Epoch 12: early stopping\n"
     ]
    },
    {
     "name": "stdout",
     "output_type": "stream",
     "text": [
      "\n",
      "Running fold 5/5\n"
     ]
    },
    {
     "name": "stdout",
     "output_type": "stream",
     "text": [
      "Epoch 1/20\n"
     ]
    },
    {
     "name": "stdout",
     "output_type": "stream",
     "text": [
      "\n",
      "Epoch 1: val_accuracy improved from -inf to 0.83671, saving model to model-epoch01-valacc0.84.keras\n"
     ]
    },
    {
     "name": "stdout",
     "output_type": "stream",
     "text": [
      "90/90 - 31s - 349ms/step - accuracy: 0.7828 - auc: 0.8617 - loss: 0.4966 - val_accuracy: 0.8367 - val_auc: 0.9067 - val_loss: 0.6801\n"
     ]
    },
    {
     "name": "stdout",
     "output_type": "stream",
     "text": [
      "Epoch 2/20\n"
     ]
    },
    {
     "name": "stdout",
     "output_type": "stream",
     "text": [
      "\n",
      "Epoch 2: val_accuracy improved from 0.83671 to 0.92197, saving model to model-epoch02-valacc0.92.keras\n"
     ]
    },
    {
     "name": "stdout",
     "output_type": "stream",
     "text": [
      "90/90 - 29s - 325ms/step - accuracy: 0.9186 - auc: 0.9755 - loss: 0.2002 - val_accuracy: 0.9220 - val_auc: 0.9744 - val_loss: 0.2117\n"
     ]
    },
    {
     "name": "stdout",
     "output_type": "stream",
     "text": [
      "Epoch 3/20\n"
     ]
    },
    {
     "name": "stdout",
     "output_type": "stream",
     "text": [
      "\n",
      "Epoch 3: val_accuracy did not improve from 0.92197\n"
     ]
    },
    {
     "name": "stdout",
     "output_type": "stream",
     "text": [
      "90/90 - 29s - 323ms/step - accuracy: 0.9543 - auc: 0.9902 - loss: 0.1250 - val_accuracy: 0.9220 - val_auc: 0.9778 - val_loss: 0.2002\n"
     ]
    },
    {
     "name": "stdout",
     "output_type": "stream",
     "text": [
      "Epoch 4/20\n"
     ]
    },
    {
     "name": "stdout",
     "output_type": "stream",
     "text": [
      "\n",
      "Epoch 4: val_accuracy improved from 0.92197 to 0.94364, saving model to model-epoch04-valacc0.94.keras\n"
     ]
    },
    {
     "name": "stdout",
     "output_type": "stream",
     "text": [
      "90/90 - 29s - 325ms/step - accuracy: 0.9571 - auc: 0.9896 - loss: 0.1206 - val_accuracy: 0.9436 - val_auc: 0.9883 - val_loss: 0.1451\n"
     ]
    },
    {
     "name": "stdout",
     "output_type": "stream",
     "text": [
      "Epoch 5/20\n"
     ]
    },
    {
     "name": "stdout",
     "output_type": "stream",
     "text": [
      "\n",
      "Epoch 5: val_accuracy improved from 0.94364 to 0.94942, saving model to model-epoch05-valacc0.95.keras\n"
     ]
    },
    {
     "name": "stdout",
     "output_type": "stream",
     "text": [
      "90/90 - 29s - 324ms/step - accuracy: 0.9787 - auc: 0.9969 - loss: 0.0684 - val_accuracy: 0.9494 - val_auc: 0.9840 - val_loss: 0.1763\n"
     ]
    },
    {
     "name": "stdout",
     "output_type": "stream",
     "text": [
      "Epoch 6/20\n"
     ]
    },
    {
     "name": "stdout",
     "output_type": "stream",
     "text": [
      "\n",
      "Epoch 6: val_accuracy did not improve from 0.94942\n"
     ]
    },
    {
     "name": "stdout",
     "output_type": "stream",
     "text": [
      "90/90 - 29s - 323ms/step - accuracy: 0.9773 - auc: 0.9980 - loss: 0.0570 - val_accuracy: 0.9220 - val_auc: 0.9687 - val_loss: 0.2794\n"
     ]
    },
    {
     "name": "stdout",
     "output_type": "stream",
     "text": [
      "Epoch 7/20\n"
     ]
    },
    {
     "name": "stdout",
     "output_type": "stream",
     "text": [
      "\n",
      "Epoch 7: val_accuracy did not improve from 0.94942\n"
     ]
    },
    {
     "name": "stdout",
     "output_type": "stream",
     "text": [
      "90/90 - 29s - 324ms/step - accuracy: 0.9811 - auc: 0.9967 - loss: 0.0643 - val_accuracy: 0.9350 - val_auc: 0.9687 - val_loss: 0.2622\n"
     ]
    },
    {
     "name": "stdout",
     "output_type": "stream",
     "text": [
      "Epoch 8/20\n"
     ]
    },
    {
     "name": "stdout",
     "output_type": "stream",
     "text": [
      "\n",
      "Epoch 8: val_accuracy improved from 0.94942 to 0.95376, saving model to model-epoch08-valacc0.95.keras\n"
     ]
    },
    {
     "name": "stdout",
     "output_type": "stream",
     "text": [
      "90/90 - 29s - 325ms/step - accuracy: 0.9797 - auc: 0.9979 - loss: 0.0531 - val_accuracy: 0.9538 - val_auc: 0.9858 - val_loss: 0.1654\n"
     ]
    },
    {
     "name": "stdout",
     "output_type": "stream",
     "text": [
      "Epoch 9/20\n"
     ]
    },
    {
     "name": "stdout",
     "output_type": "stream",
     "text": [
      "\n",
      "Epoch 9: val_accuracy did not improve from 0.95376\n"
     ]
    },
    {
     "name": "stdout",
     "output_type": "stream",
     "text": [
      "90/90 - 29s - 323ms/step - accuracy: 0.9784 - auc: 0.9972 - loss: 0.0593 - val_accuracy: 0.9480 - val_auc: 0.9702 - val_loss: 0.3018\n"
     ]
    },
    {
     "name": "stdout",
     "output_type": "stream",
     "text": [
      "Epoch 10/20\n"
     ]
    },
    {
     "name": "stdout",
     "output_type": "stream",
     "text": [
      "\n",
      "Epoch 10: val_accuracy did not improve from 0.95376\n"
     ]
    },
    {
     "name": "stdout",
     "output_type": "stream",
     "text": [
      "90/90 - 29s - 323ms/step - accuracy: 0.9902 - auc: 0.9993 - loss: 0.0274 - val_accuracy: 0.9220 - val_auc: 0.9550 - val_loss: 0.3547\n"
     ]
    },
    {
     "name": "stdout",
     "output_type": "stream",
     "text": [
      "Epoch 11/20\n"
     ]
    },
    {
     "name": "stdout",
     "output_type": "stream",
     "text": [
      "\n",
      "Epoch 11: val_accuracy did not improve from 0.95376\n"
     ]
    },
    {
     "name": "stdout",
     "output_type": "stream",
     "text": [
      "90/90 - 29s - 323ms/step - accuracy: 0.9846 - auc: 0.9975 - loss: 0.0460 - val_accuracy: 0.9451 - val_auc: 0.9843 - val_loss: 0.1652\n"
     ]
    },
    {
     "name": "stdout",
     "output_type": "stream",
     "text": [
      "Epoch 12/20\n"
     ]
    },
    {
     "name": "stdout",
     "output_type": "stream",
     "text": [
      "\n",
      "Epoch 12: val_accuracy did not improve from 0.95376\n"
     ]
    },
    {
     "name": "stdout",
     "output_type": "stream",
     "text": [
      "90/90 - 29s - 323ms/step - accuracy: 0.9899 - auc: 0.9991 - loss: 0.0307 - val_accuracy: 0.9509 - val_auc: 0.9781 - val_loss: 0.2139\n"
     ]
    },
    {
     "name": "stdout",
     "output_type": "stream",
     "text": [
      "Epoch 13/20\n"
     ]
    },
    {
     "name": "stdout",
     "output_type": "stream",
     "text": [
      "\n",
      "Epoch 13: val_accuracy improved from 0.95376 to 0.95954, saving model to model-epoch13-valacc0.96.keras\n"
     ]
    },
    {
     "name": "stdout",
     "output_type": "stream",
     "text": [
      "90/90 - 29s - 324ms/step - accuracy: 0.9895 - auc: 0.9991 - loss: 0.0331 - val_accuracy: 0.9595 - val_auc: 0.9847 - val_loss: 0.1483\n"
     ]
    },
    {
     "name": "stdout",
     "output_type": "stream",
     "text": [
      "Epoch 14/20\n"
     ]
    },
    {
     "name": "stdout",
     "output_type": "stream",
     "text": [
      "\n",
      "Epoch 14: val_accuracy did not improve from 0.95954\n"
     ]
    },
    {
     "name": "stdout",
     "output_type": "stream",
     "text": [
      "90/90 - 29s - 323ms/step - accuracy: 0.9895 - auc: 0.9987 - loss: 0.0344 - val_accuracy: 0.9379 - val_auc: 0.9743 - val_loss: 0.2459\n"
     ]
    },
    {
     "name": "stdout",
     "output_type": "stream",
     "text": [
      "Epoch 15/20\n"
     ]
    },
    {
     "name": "stdout",
     "output_type": "stream",
     "text": [
      "\n",
      "Epoch 15: val_accuracy did not improve from 0.95954\n"
     ]
    },
    {
     "name": "stdout",
     "output_type": "stream",
     "text": [
      "90/90 - 29s - 323ms/step - accuracy: 0.9846 - auc: 0.9979 - loss: 0.0462 - val_accuracy: 0.9595 - val_auc: 0.9855 - val_loss: 0.1518\n"
     ]
    },
    {
     "name": "stdout",
     "output_type": "stream",
     "text": [
      "Epoch 16/20\n"
     ]
    },
    {
     "name": "stdout",
     "output_type": "stream",
     "text": [
      "\n",
      "Epoch 16: val_accuracy improved from 0.95954 to 0.96098, saving model to model-epoch16-valacc0.96.keras\n"
     ]
    },
    {
     "name": "stdout",
     "output_type": "stream",
     "text": [
      "90/90 - 29s - 324ms/step - accuracy: 0.9916 - auc: 0.9993 - loss: 0.0239 - val_accuracy: 0.9610 - val_auc: 0.9875 - val_loss: 0.1400\n"
     ]
    },
    {
     "name": "stdout",
     "output_type": "stream",
     "text": [
      "Epoch 17/20\n"
     ]
    },
    {
     "name": "stdout",
     "output_type": "stream",
     "text": [
      "\n",
      "Epoch 17: val_accuracy did not improve from 0.96098\n"
     ]
    },
    {
     "name": "stdout",
     "output_type": "stream",
     "text": [
      "90/90 - 29s - 323ms/step - accuracy: 0.9895 - auc: 0.9991 - loss: 0.0306 - val_accuracy: 0.9610 - val_auc: 0.9874 - val_loss: 0.1566\n"
     ]
    },
    {
     "name": "stdout",
     "output_type": "stream",
     "text": [
      "Epoch 18/20\n"
     ]
    },
    {
     "name": "stdout",
     "output_type": "stream",
     "text": [
      "\n",
      "Epoch 18: val_accuracy improved from 0.96098 to 0.96387, saving model to model-epoch18-valacc0.96.keras\n"
     ]
    },
    {
     "name": "stdout",
     "output_type": "stream",
     "text": [
      "90/90 - 29s - 324ms/step - accuracy: 0.9934 - auc: 0.9995 - loss: 0.0195 - val_accuracy: 0.9639 - val_auc: 0.9861 - val_loss: 0.1726\n"
     ]
    },
    {
     "name": "stdout",
     "output_type": "stream",
     "text": [
      "Epoch 19/20\n"
     ]
    },
    {
     "name": "stdout",
     "output_type": "stream",
     "text": [
      "\n",
      "Epoch 19: val_accuracy did not improve from 0.96387\n"
     ]
    },
    {
     "name": "stdout",
     "output_type": "stream",
     "text": [
      "90/90 - 29s - 324ms/step - accuracy: 0.9913 - auc: 0.9996 - loss: 0.0240 - val_accuracy: 0.9538 - val_auc: 0.9775 - val_loss: 0.2309\n"
     ]
    },
    {
     "name": "stdout",
     "output_type": "stream",
     "text": [
      "Epoch 20/20\n"
     ]
    },
    {
     "name": "stdout",
     "output_type": "stream",
     "text": [
      "\n",
      "Epoch 20: val_accuracy did not improve from 0.96387\n"
     ]
    },
    {
     "name": "stdout",
     "output_type": "stream",
     "text": [
      "90/90 - 29s - 323ms/step - accuracy: 0.9930 - auc: 0.9995 - loss: 0.0188 - val_accuracy: 0.9465 - val_auc: 0.9736 - val_loss: 0.2469\n"
     ]
    }
   ],
   "source": [
    "if __name__ == \"__main__\":\n",
    "    # load data: 80% of preprocessed data with 20% saved for a holdout\n",
    "    y = np.load(\"/home/sbinder3/wearables/y_train.npy\")\n",
    "    X = np.load(\"/home/sbinder3/wearables/X_train.npy\")\n",
    "    groups = np.load(\"/home/sbinder3/wearables/groups_train.npy\")\n",
    "\n",
    "    \n",
    "    # call function\n",
    "    models, histories = train(X,y,groups)\n"
   ]
  },
  {
   "cell_type": "markdown",
   "id": "9e519b38-c0e0-4e03-9939-f9b1501a65a6",
   "metadata": {},
   "source": [
    "# Evaluate\n"
   ]
  },
  {
   "cell_type": "code",
   "execution_count": 30,
   "id": "fc36410f-13f2-4e77-89c6-7d60e58b76d5",
   "metadata": {},
   "outputs": [
    {
     "name": "stdout",
     "output_type": "stream",
     "text": [
      "29/29 - 2s - 79ms/step - accuracy: 0.7364 - auc: 0.7384 - loss: 46.8866\n",
      "Test Accuracy: 0.7364\n",
      "Test AUC: 0.7384\n"
     ]
    }
   ],
   "source": [
    "# load best model\n",
    "model = load_model(\"model-epoch09-valacc0.97.keras\")\n",
    "\n",
    "# compile\n",
    "model.compile(optimizer='adam',\n",
    "      loss='binary_crossentropy',\n",
    "      metrics=['accuracy', AUC(name='auc')])\n",
    "\n",
    "results = model.evaluate(X_test, y_test, verbose=2)\n",
    "print(f\"Test Accuracy: {results[1]:.4f}\")\n",
    "print(f\"Test AUC: {results[2]:.4f}\")\n"
   ]
  },
  {
   "cell_type": "code",
   "execution_count": 33,
   "id": "d37ab122-be79-4cf4-98e5-0a9f21f0c0e9",
   "metadata": {},
   "outputs": [],
   "source": [
    "#model.summary()"
   ]
  },
  {
   "cell_type": "code",
   "execution_count": 19,
   "id": "f1863d4c-37d8-4b8b-823b-57d50565adeb",
   "metadata": {},
   "outputs": [],
   "source": [
    "# load holdout set\n",
    "y_test = np.load(\"/home/sbinder3/wearables/y_test.npy\")\n",
    "X_test = np.load(\"/home/sbinder3/wearables/X_test.npy\")"
   ]
  },
  {
   "cell_type": "markdown",
   "id": "1eb76621-6180-4baa-8761-531be3a59b19",
   "metadata": {
    "jp-MarkdownHeadingCollapsed": true
   },
   "source": [
    "# Prev versions"
   ]
  },
  {
   "cell_type": "code",
   "execution_count": 9,
   "id": "42421a20-463a-4e69-9255-06447efb8bda",
   "metadata": {
    "execution": {
     "iopub.execute_input": "2025-05-15T20:30:23.667105Z",
     "iopub.status.busy": "2025-05-15T20:30:23.666990Z",
     "iopub.status.idle": "2025-05-15T20:30:23.669311Z",
     "shell.execute_reply": "2025-05-15T20:30:23.669009Z"
    }
   },
   "outputs": [],
   "source": [
    "# X = np.array(all_X)\n",
    "# y = np.array(all_y)\n",
    "# groups = np.array(all_groups)\n",
    "\n",
    "# def train(X,y,groups):\n",
    "\n",
    "#     # init for tracking\n",
    "#     all_models = []\n",
    "#     all_histories = []\n",
    "\n",
    "#     gkf = GroupKFold(n_splits=5, shuffle=True)     # data shuffle?\n",
    "    \n",
    "#     for ifold, (train_idx, val_idx) in enumerate(gkf.split(X, y, groups=groups)):\n",
    "#         print(f\"\\nRunning fold {ifold_+1}/5\")\n",
    "#         # get train and test data\n",
    "#         Xtr, Xval = X[train_idx], X[val_idx]\n",
    "#         ytr, yval = y[train_idx], y[val_idx]\n",
    "\n",
    "#         #scale\n",
    "#         scaler = StandardScaler()\n",
    "#         Xtr_scal = scaler.fit_transform(Xtr)\n",
    "#         Xval_scal = scaler.transform(Xval)\n",
    "\n",
    "#         # define checkpoints\n",
    "#         # number of epochs with no improvment after which the training will stop\n",
    "#         early_stopping = EarlyStopping(monitor='val_accuracy', patience=5, verbose=1)\n",
    "        \n",
    "#         # save best model\n",
    "#         checkpoint = ModelCheckpoint(\n",
    "#         \"model-epoch{epoch:02d}-valacc{val_accuracy:.2f}.h5\",\n",
    "#         monitor=\"val_accuracy\",\n",
    "#         save_best_only=True,\n",
    "#         verbose=2\n",
    "#     )\n",
    "\n",
    "#         # Build model  # input shape means a sinlge SAMple is of shape 200 rows * num features\n",
    "#         model = build_model(input_shape=(X.shape[1], X.shape[2]), num_classes=3) \n",
    "\n",
    "#         # compile\n",
    "#         model.compile(optimizer='adam',\n",
    "#               loss='categorical_crossentropy',\n",
    "#               metrics=['accuracy'])\n",
    "    \n",
    "#         model.fit(\n",
    "#             Xtr_scal, ytr\n",
    "#             validation_data=(Xval_scal, yval),\n",
    "#             epochs=20,\n",
    "#             batch_size=32,\n",
    "#             verbose=2,\n",
    "#             callbacks = [checkpoint, early_stopping]\n",
    "#         )\n",
    "\n",
    "#     all_models.append(model)\n",
    "#     all_histories.append(history)\n",
    "\n",
    "#     return all_models, all_histories\n"
   ]
  },
  {
   "cell_type": "code",
   "execution_count": 10,
   "id": "86dc84ce-0255-476f-acfa-5852eb2a5c7a",
   "metadata": {
    "execution": {
     "iopub.execute_input": "2025-05-15T20:30:23.670519Z",
     "iopub.status.busy": "2025-05-15T20:30:23.670393Z",
     "iopub.status.idle": "2025-05-15T20:30:23.672658Z",
     "shell.execute_reply": "2025-05-15T20:30:23.672329Z"
    }
   },
   "outputs": [],
   "source": [
    "# def build_model(input_shape=(200, 162), num_classes=3): # input: 162-length vectors with 200 timesteps # BATCH size?\n",
    "    \n",
    "#     model = models.Sequential([\n",
    "#         # First block: half-second time steps\n",
    "#         # kernel size = temporal width of the filter #filter size = num conv filters learned\n",
    "#         layers.Conv1D(64, kernel_size=25, dilation_rate=2, padding='same', activation='relu', input_shape=input_shape)), #filter size = num conv filters learned \n",
    "#         layers.BatchNormalization(),\n",
    "#         layers.Dropout(0.3),\n",
    "\n",
    "#         # 1-second time steps\n",
    "#         layers.Conv1D(128, kernel_size=50, dilation_rate=2, padding='same', activation='relu') # padding = same, output shape remains 200. (200, 128)\n",
    "#         layers.BatchNormalization(),\n",
    "#         layers.MaxPooling1D(pool_size=2), # downsamples by taking max activation(strongest patterns) # 200 > 100\n",
    "\n",
    "#         # 2-second time steps\n",
    "#         layers.Conv1D(128, kernel_size=50, dilation_rate=4, padding='same', activation='relu') \n",
    "#         layers.BatchNormalization(),\n",
    "#         layers.MaxPooling1D(pool_size=2), # 100 > 50\n",
    "\n",
    "#         # summarize\n",
    "#         layers.GlobalAveragePooling1D(), # flattens\n",
    "#         layers.Dense(64, activation='relu'),\n",
    "#         layers.Dropout(0.5),  # randomly zeroes out 32 of the 64 activations each epoch\n",
    "#         layers.Dense(num_classes, activation='softmax')  \n",
    "#     ])\n",
    "    \n",
    "#     return model\n"
   ]
  }
 ],
 "metadata": {
  "kernelspec": {
   "display_name": "Python 3 (ipykernel)",
   "language": "python",
   "name": "python3"
  },
  "language_info": {
   "codemirror_mode": {
    "name": "ipython",
    "version": 3
   },
   "file_extension": ".py",
   "mimetype": "text/x-python",
   "name": "python",
   "nbconvert_exporter": "python",
   "pygments_lexer": "ipython3",
   "version": "3.11.11"
  }
 },
 "nbformat": 4,
 "nbformat_minor": 5
}
